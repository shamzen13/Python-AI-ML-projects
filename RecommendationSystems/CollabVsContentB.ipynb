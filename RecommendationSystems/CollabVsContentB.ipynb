{
 "cells": [
  {
   "cell_type": "markdown",
   "id": "8c72dfbf-2e95-4b56-b819-ff7686a175a8",
   "metadata": {},
   "source": [
    "# Recommendation Systems\n",
    "\n",
    "## Content based filtering vs Collaborative Filtering\n"
   ]
  },
  {
   "cell_type": "markdown",
   "id": "7f6cec3d-a82c-473d-8a7a-b04e9a11001a",
   "metadata": {},
   "source": [
    "In recommender systems, ML models are used to predict the *rating r of a user u on an item i*. Implemented through recommending to each user u the items l with the highest predicted rating r.\n"
   ]
  },
  {
   "cell_type": "markdown",
   "id": "4c7e080c-f7bc-4e67-826e-4e358f535715",
   "metadata": {},
   "source": [
    "**Explicit vs Implicit Feedback**\n",
    "\n",
    "Explicit includes concrete ratings left by the users through reviews, thumbs up and so on.\n",
    "\n",
    "Implicit includes the played songs, purchased items, browsing history and so on, it is more noisy and less detailed."
   ]
  },
  {
   "cell_type": "markdown",
   "id": "08eb0e3e-452b-4f92-bae1-4788c4b64d19",
   "metadata": {},
   "source": [
    "when we collect the feedbacks we create a user-item rating matrix r. \n",
    "\n",
    "Explicit feedbacks are represented by numbers while implicit are through boolean values."
   ]
  },
  {
   "cell_type": "markdown",
   "id": "7f620eef-e8bc-4cc5-bfb9-5db0fbb7a675",
   "metadata": {},
   "source": [
    "## Content based"
   ]
  },
  {
   "cell_type": "markdown",
   "id": "98de43ae-2d15-484c-bd72-e353cf11d980",
   "metadata": {},
   "source": [
    "Uses items such as meta data and tags to suggest things based on what user liked in the past"
   ]
  },
  {
   "cell_type": "markdown",
   "id": "483cdd59-edb1-4266-a59e-a639d876bfad",
   "metadata": {},
   "source": [
    "Step 1: Use the \"genre\" column to represent movies\n",
    "\n",
    "Each movie has one or more genres (e.g., \"Action, Sci-Fi\" or \"Drama, Romance\").\n",
    "We need to turn these text values into a format a computer can understand.\n",
    "\n",
    "Step 2: Convert genres into a numerical format using different vectorization methods\n",
    "\n",
    "Binary Feature Matrix: A simple method where each genre is represented as 1 (present) or 0 (absent).\n",
    "Example:\n",
    "\n",
    "\n",
    "Movie       Action  Drama  Sci-Fi  Romance  \n",
    "Movie A       1      0      1        0  \n",
    "Movie B       0      1      0        1  \n",
    "\n",
    "Bag of Words (BoW): Counts how often each word (genre) appears.\n",
    "\n",
    "TF-IDF (Term Frequency-Inverse Document Frequency): A more advanced method that gives more importance to rare genres and less to common ones.\n",
    "\n",
    "Step 3: Recommend similar movies based on genre similarity\n",
    "\n",
    "Use similarity measures like cosine similarity to find movies with the most similar genre representations.\n",
    "\n",
    "Step 4: Add more information using movie tags\n",
    "\n",
    "The genome-tags file contains different descriptive tags (e.g., \"space travel\" for sci-fi movies).\n",
    "The genome-score file gives a score for how relevant each tag is to a movie.\n",
    "These tags will help refine the recommendations, making them more accurate.\n",
    "\n",
    "\n"
   ]
  },
  {
   "cell_type": "markdown",
   "id": "61455232-d850-409a-ad34-c6a962b40db1",
   "metadata": {},
   "source": [
    "### Similarity measures in Recc systems\n",
    "\n",
    "Pearson Correlation Coefficient: It measures the linear correlation between two variables and is commonly used in recommendation systems.\n",
    "\n",
    "Cosine Similarity: It measures the cosine of the angle between two vectors and is widely used in recommendation systems due to its ability \n",
    "to handle sparse data.\n",
    "\n",
    "Jaccard Similarity: It measures the similarity between two sets and is often used in recommendation systems for binary data.\n",
    "\n",
    "Euclidean Distance: It measures the straight-line distance between two points in a multi-dimensional space and is often used in \n",
    "recommendation systems.\n",
    "\n",
    "Manhattan Distance: It measures the absolute differences between two points in a multi-dimensional space and is often used in recommendation systems.\n",
    "\n",
    "Cosine similarity is more suited for content-based recc. systems as its well suited for sparse data.\n"
   ]
  },
  {
   "cell_type": "markdown",
   "id": "c303cb3f",
   "metadata": {},
   "source": [
    "# Collaborative based filtering\n",
    "\n",
    "Collaborative filtering makes recommendations by looking at users' past actions (like ratings, clicks, or purchases) without needing extra info about users or items. It finds patterns in user behavior to predict what someone might like based on what similar users liked."
   ]
  },
  {
   "cell_type": "markdown",
   "id": "7c00b2e2",
   "metadata": {},
   "source": [
    "An approach towards collaborative based filtering is Matrix factorization \n",
    "\n",
    "Matrix factorization techniques break down large user-item interaction matrices into smaller matrices to find hidden patterns and make recommendations.\n",
    "\n",
    "Such as SVD, ALS .. etc\n"
   ]
  },
  {
   "cell_type": "markdown",
   "id": "82c49386",
   "metadata": {},
   "source": [
    "Matrix factorization finds hidden patterns in user-item interactions by representing users p and items q as vectors in a lower-dimensional space. The predicted rating \n",
    "​is calculated using these vectors.\n",
    "It is also a latent factor model; A Latent Factor Model (LFM) is a type of mathematical model used in machine learning and statistics to uncover hidden patterns or structures in data"
   ]
  },
  {
   "cell_type": "markdown",
   "id": "1653b1a6",
   "metadata": {},
   "source": [
    "The idea behind matrix factorization is to decompose the user-item matrix into two lower-rank matrices: \n",
    "\n",
    "One that represents the users' preferences\n",
    "\n",
    "One  that represents the items' characteristics.\n",
    "\n",
    "The user-item matrix is then reconstructed by taking the dot product of those two matrices.\n"
   ]
  },
  {
   "cell_type": "markdown",
   "id": "2c1b9fe9",
   "metadata": {},
   "source": [
    "### Prediction calculation\n",
    "\n",
    "$$\n",
    "\\hat{R}_{ui} = \\mu + b_u + b_i + U_u \\cdot V_i^T\n",
    "$$\n",
    "\n",
    "\n",
    "R_ui: predicted rating for user u and item i \n",
    "\n",
    "mu: Global bias (avg rating across all users and items)\n",
    "\n",
    "b_u : User Bias\n",
    "\n",
    "b_i : Item bias\n",
    "\n",
    "U_u : Latent vector for user u ( shape : (n_factors))\n",
    "\n",
    "V_i : Latent vector for item i ( shape : (n_factors))\n",
    "\n",
    "Uu⋅ViT\n",
    "\n",
    "→ Dot product of user and item vectors (captures interaction).\n"
   ]
  },
  {
   "cell_type": "markdown",
   "id": "54a5840e",
   "metadata": {},
   "source": [
    "### MSE Equation:\n",
    "\n",
    "The Mean Squared Error (MSE) is calculated as:\n",
    "\n",
    "$$\n",
    "MSE = \\frac{1}{n} \\sum_{i=1}^{n} (R_{ui} - \\hat{R}_{ui})^2\n",
    "$$\n",
    "\n",
    "Where:\n",
    "- \\( R_{ui} \\) = Actual rating of user \\( u \\) for item \\( i \\).\n",
    "- \\( \\hat{R}_{ui} \\) = Predicted rating of user \\( u \\) for item \\( i \\).\n",
    "- \\( n \\) = Total number of ratings (interactions)."
   ]
  },
  {
   "cell_type": "markdown",
   "id": "fc9745fe",
   "metadata": {},
   "source": []
  }
 ],
 "metadata": {
  "kernelspec": {
   "display_name": "Python 3 (ipykernel)",
   "language": "python",
   "name": "python3"
  },
  "language_info": {
   "codemirror_mode": {
    "name": "ipython",
    "version": 3
   },
   "file_extension": ".py",
   "mimetype": "text/x-python",
   "name": "python",
   "nbconvert_exporter": "python",
   "pygments_lexer": "ipython3",
   "version": "3.13.0"
  }
 },
 "nbformat": 4,
 "nbformat_minor": 5
}
