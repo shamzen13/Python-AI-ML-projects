{
 "cells": [
  {
   "cell_type": "markdown",
   "id": "8c72dfbf-2e95-4b56-b819-ff7686a175a8",
   "metadata": {},
   "source": [
    "# Recommendation Systems\n",
    "\n",
    "## Content based filtering vs Collaborative Filtering\n"
   ]
  },
  {
   "cell_type": "markdown",
   "id": "7f6cec3d-a82c-473d-8a7a-b04e9a11001a",
   "metadata": {},
   "source": [
    "In recommender systems, ML models are used to predict the *rating r of a user u on an item i*. Implemented through recommending to each user u the items l with the highest predicted rating r.\n"
   ]
  },
  {
   "cell_type": "markdown",
   "id": "4c7e080c-f7bc-4e67-826e-4e358f535715",
   "metadata": {},
   "source": [
    "**Explicit vs Implicit Feedback**\n",
    "\n",
    "Explicit includes concrete ratings left by the users through reviews, thumbs up and so on.\n",
    "\n",
    "Implicit includes the played songs, purchased items, browsing history and so on, it is more noisy and less detailed."
   ]
  },
  {
   "cell_type": "markdown",
   "id": "08eb0e3e-452b-4f92-bae1-4788c4b64d19",
   "metadata": {},
   "source": [
    "when we collect the feedbacks we create a user-item rating matrix r. \n",
    "\n",
    "Explicit feedbacks are represented by numbers while implicit are through boolean values."
   ]
  },
  {
   "cell_type": "markdown",
   "id": "7f620eef-e8bc-4cc5-bfb9-5db0fbb7a675",
   "metadata": {},
   "source": [
    "## Content based"
   ]
  },
  {
   "cell_type": "markdown",
   "id": "98de43ae-2d15-484c-bd72-e353cf11d980",
   "metadata": {},
   "source": [
    "Uses items such as meta data and tags to suggest things based on what user liked in the past"
   ]
  },
  {
   "cell_type": "markdown",
   "id": "483cdd59-edb1-4266-a59e-a639d876bfad",
   "metadata": {},
   "source": [
    "Step 1: Use the \"genre\" column to represent movies\n",
    "\n",
    "Each movie has one or more genres (e.g., \"Action, Sci-Fi\" or \"Drama, Romance\").\n",
    "We need to turn these text values into a format a computer can understand.\n",
    "\n",
    "Step 2: Convert genres into a numerical format using different vectorization methods\n",
    "\n",
    "Binary Feature Matrix: A simple method where each genre is represented as 1 (present) or 0 (absent).\n",
    "Example:\n",
    "\n",
    "\n",
    "Movie       Action  Drama  Sci-Fi  Romance  \n",
    "Movie A       1      0      1        0  \n",
    "Movie B       0      1      0        1  \n",
    "\n",
    "Bag of Words (BoW): Counts how often each word (genre) appears.\n",
    "\n",
    "TF-IDF (Term Frequency-Inverse Document Frequency): A more advanced method that gives more importance to rare genres and less to common ones.\n",
    "\n",
    "Step 3: Recommend similar movies based on genre similarity\n",
    "\n",
    "Use similarity measures like cosine similarity to find movies with the most similar genre representations.\n",
    "\n",
    "Step 4: Add more information using movie tags\n",
    "\n",
    "The genome-tags file contains different descriptive tags (e.g., \"space travel\" for sci-fi movies).\n",
    "The genome-score file gives a score for how relevant each tag is to a movie.\n",
    "These tags will help refine the recommendations, making them more accurate.\n",
    "\n",
    "\n"
   ]
  },
  {
   "cell_type": "markdown",
   "id": "61455232-d850-409a-ad34-c6a962b40db1",
   "metadata": {},
   "source": [
    "## Similarity measures in Recc systems\n",
    "\n",
    "Pearson Correlation Coefficient: It measures the linear correlation between two variables and is commonly used in recommendation systems.\n",
    "\n",
    "Cosine Similarity: It measures the cosine of the angle between two vectors and is widely used in recommendation systems due to its ability \n",
    "to handle sparse data.\n",
    "\n",
    "Jaccard Similarity: It measures the similarity between two sets and is often used in recommendation systems for binary data.\n",
    "\n",
    "Euclidean Distance: It measures the straight-line distance between two points in a multi-dimensional space and is often used in \n",
    "recommendation systems.\n",
    "\n",
    "Manhattan Distance: It measures the absolute differences between two points in a multi-dimensional space and is often used in recommendation systems.\n",
    "\n",
    "Cosine similarity is more suited for content-based recc. systems as its well suited for sparse data.\n"
   ]
  },
  {
   "cell_type": "code",
   "execution_count": null,
   "id": "a6ef501a-1f55-4518-bbcf-c806ded67d99",
   "metadata": {},
   "outputs": [],
   "source": []
  },
  {
   "cell_type": "code",
   "execution_count": null,
   "id": "2dd8954a-7721-49c6-b730-2cd43a73c8cd",
   "metadata": {},
   "outputs": [],
   "source": []
  }
 ],
 "metadata": {
  "kernelspec": {
   "display_name": "Python 3 (ipykernel)",
   "language": "python",
   "name": "python3"
  },
  "language_info": {
   "codemirror_mode": {
    "name": "ipython",
    "version": 3
   },
   "file_extension": ".py",
   "mimetype": "text/x-python",
   "name": "python",
   "nbconvert_exporter": "python",
   "pygments_lexer": "ipython3",
   "version": "3.13.0"
  }
 },
 "nbformat": 4,
 "nbformat_minor": 5
}
